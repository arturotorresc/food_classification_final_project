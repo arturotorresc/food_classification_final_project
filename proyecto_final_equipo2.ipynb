{
  "nbformat": 4,
  "nbformat_minor": 0,
  "metadata": {
    "colab": {
      "name": "proyecto_final_equipo2.ipynb",
      "provenance": [],
      "toc_visible": true
    },
    "kernelspec": {
      "name": "python3",
      "display_name": "Python 3"
    }
  },
  "cells": [
    {
      "cell_type": "markdown",
      "metadata": {
        "id": "qx3UXKFpoZaR",
        "colab_type": "text"
      },
      "source": [
        "# Equipo 2\n",
        "## Miembros:\n",
        "### Jorge Arturo Torres Cruz - A01176590"
      ]
    },
    {
      "cell_type": "markdown",
      "metadata": {
        "id": "pLuMXQr9uBie",
        "colab_type": "text"
      },
      "source": [
        "## Recolección de datos"
      ]
    },
    {
      "cell_type": "code",
      "metadata": {
        "id": "r2XP5CVRtiM1",
        "colab_type": "code",
        "colab": {}
      },
      "source": [
        "url_files = ['wines.txt', 'bubble_gums.txt', 'dumplings.txt', 'pizza_urls.txt', 'sandwich.txt']"
      ],
      "execution_count": 0,
      "outputs": []
    },
    {
      "cell_type": "code",
      "metadata": {
        "id": "YVC89CCpw9X4",
        "colab_type": "code",
        "colab": {
          "base_uri": "https://localhost:8080/",
          "height": 119
        },
        "outputId": "ddf20a2d-7767-423f-fc34-d11126d83b16"
      },
      "source": [
        "# Iteramos por cada uno de los archivos y obtenemos los URLs de las imagenes.\n",
        "print(\"Reading files containing images urls\")\n",
        "urls = []\n",
        "for file_name in url_files:\n",
        "  with open(file_name) as f:\n",
        "    content = f.readlines()\n",
        "    content = [url.strip() for url in content]\n",
        "    print(\"Reading {} image urls ({})\".format(len(content), file_name))\n",
        "    urls.append(content)"
      ],
      "execution_count": 11,
      "outputs": [
        {
          "output_type": "stream",
          "text": [
            "Reading files containing images urls\n",
            "Reading 1248 image urls (wines.txt)\n",
            "Reading 1210 image urls (bubble_gums.txt)\n",
            "Reading 1273 image urls (dumplings.txt)\n",
            "Reading 1216 image urls (pizza_urls.txt)\n",
            "Reading 1230 image urls (sandwich.txt)\n"
          ],
          "name": "stdout"
        }
      ]
    },
    {
      "cell_type": "code",
      "metadata": {
        "id": "kV0MqOuIxZW9",
        "colab_type": "code",
        "colab": {}
      },
      "source": [
        "# Utilizaremos urllib para descargar las imagenes utilizando URLs obtenidos de ImageNet\n",
        "import urllib.request\n",
        "import os"
      ],
      "execution_count": 0,
      "outputs": []
    },
    {
      "cell_type": "code",
      "metadata": {
        "id": "8JX6kprMyJZ9",
        "colab_type": "code",
        "colab": {
          "base_uri": "https://localhost:8080/",
          "height": 266
        },
        "outputId": "bc360804-9a57-4b1e-84a9-c6fde3645a26"
      },
      "source": [
        "categories = ['wine', 'bubble_gum', 'dumplings', 'pizza', 'sandwich']\n",
        "os.mkdir(\"./data\")\n",
        "for idx, category in enumerate(categories):\n",
        "  counter = 0\n",
        "  try:\n",
        "    print(\"Creating directory to store {} images\".format(category))\n",
        "    os.mkdir(\"./data/{}\".format(category))\n",
        "  except Exception as e:\n",
        "    print(e)\n",
        "  else:\n",
        "    print(\"Succesfully created {}/ directory\".format(category))\n",
        "  for img in range(0, len(urls[idx])):\n",
        "    try:\n",
        "      urllib.request.urlretrieve(urls[idx][img], \"{}/{}.jpg\".format(category, counter))\n",
        "      counter += 1\n",
        "    except Exception as e:\n",
        "      print(\"==>An error ocurred while fetching img #{} from {}\".format(img, category))\n",
        "      print(e)"
      ],
      "execution_count": 9,
      "outputs": [
        {
          "output_type": "stream",
          "text": [
            "Creating directory to store wine images\n",
            "Succesfully created wine/ directory\n"
          ],
          "name": "stdout"
        },
        {
          "output_type": "error",
          "ename": "NameError",
          "evalue": "ignored",
          "traceback": [
            "\u001b[0;31m---------------------------------------------------------------------------\u001b[0m",
            "\u001b[0;31mNameError\u001b[0m                                 Traceback (most recent call last)",
            "\u001b[0;32m<ipython-input-9-207c95f11efd>\u001b[0m in \u001b[0;36m<module>\u001b[0;34m()\u001b[0m\n\u001b[1;32m     10\u001b[0m   \u001b[0;32melse\u001b[0m\u001b[0;34m:\u001b[0m\u001b[0;34m\u001b[0m\u001b[0;34m\u001b[0m\u001b[0m\n\u001b[1;32m     11\u001b[0m     \u001b[0mprint\u001b[0m\u001b[0;34m(\u001b[0m\u001b[0;34m\"Succesfully created {}/ directory\"\u001b[0m\u001b[0;34m.\u001b[0m\u001b[0mformat\u001b[0m\u001b[0;34m(\u001b[0m\u001b[0mcategory\u001b[0m\u001b[0;34m)\u001b[0m\u001b[0;34m)\u001b[0m\u001b[0;34m\u001b[0m\u001b[0;34m\u001b[0m\u001b[0m\n\u001b[0;32m---> 12\u001b[0;31m   \u001b[0;32mfor\u001b[0m \u001b[0mimg\u001b[0m \u001b[0;32min\u001b[0m \u001b[0mrange\u001b[0m\u001b[0;34m(\u001b[0m\u001b[0;36m0\u001b[0m\u001b[0;34m,\u001b[0m \u001b[0mlen\u001b[0m\u001b[0;34m(\u001b[0m\u001b[0murl\u001b[0m\u001b[0;34m[\u001b[0m\u001b[0midx\u001b[0m\u001b[0;34m]\u001b[0m\u001b[0;34m)\u001b[0m\u001b[0;34m)\u001b[0m\u001b[0;34m:\u001b[0m\u001b[0;34m\u001b[0m\u001b[0;34m\u001b[0m\u001b[0m\n\u001b[0m\u001b[1;32m     13\u001b[0m     \u001b[0;32mtry\u001b[0m\u001b[0;34m:\u001b[0m\u001b[0;34m\u001b[0m\u001b[0;34m\u001b[0m\u001b[0m\n\u001b[1;32m     14\u001b[0m       \u001b[0murllib\u001b[0m\u001b[0;34m.\u001b[0m\u001b[0mrequest\u001b[0m\u001b[0;34m.\u001b[0m\u001b[0murlretrieve\u001b[0m\u001b[0;34m(\u001b[0m\u001b[0murls\u001b[0m\u001b[0;34m[\u001b[0m\u001b[0midx\u001b[0m\u001b[0;34m]\u001b[0m\u001b[0;34m[\u001b[0m\u001b[0mimg\u001b[0m\u001b[0;34m]\u001b[0m\u001b[0;34m,\u001b[0m \u001b[0;34m\"{}/{}.jpg\"\u001b[0m\u001b[0;34m.\u001b[0m\u001b[0mformat\u001b[0m\u001b[0;34m(\u001b[0m\u001b[0mcategory\u001b[0m\u001b[0;34m,\u001b[0m \u001b[0mcounter\u001b[0m\u001b[0;34m)\u001b[0m\u001b[0;34m)\u001b[0m\u001b[0;34m\u001b[0m\u001b[0;34m\u001b[0m\u001b[0m\n",
            "\u001b[0;31mNameError\u001b[0m: name 'url' is not defined"
          ]
        }
      ]
    },
    {
      "cell_type": "code",
      "metadata": {
        "id": "56hH4sfSyOlD",
        "colab_type": "code",
        "colab": {}
      },
      "source": [
        ""
      ],
      "execution_count": 0,
      "outputs": []
    }
  ]
}