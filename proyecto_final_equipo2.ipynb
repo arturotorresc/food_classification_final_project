{
  "nbformat": 4,
  "nbformat_minor": 0,
  "metadata": {
    "colab": {
      "name": "updated_proyecto_final_equipo2.ipynb",
      "provenance": [],
      "collapsed_sections": [],
      "toc_visible": true
    },
    "kernelspec": {
      "name": "python3",
      "display_name": "Python 3"
    }
  },
  "cells": [
    {
      "cell_type": "markdown",
      "metadata": {
        "id": "qx3UXKFpoZaR",
        "colab_type": "text"
      },
      "source": [
        "# Equipo 2\n",
        "## Miembros:\n",
        "### Jorge Arturo Torres Cruz - A01176590\n",
        "### Juan Manuel Pérez Font - A00819815"
      ]
    },
    {
      "cell_type": "markdown",
      "metadata": {
        "id": "pLuMXQr9uBie",
        "colab_type": "text"
      },
      "source": [
        "## Recolección de datos"
      ]
    },
    {
      "cell_type": "code",
      "metadata": {
        "id": "r2XP5CVRtiM1",
        "colab_type": "code",
        "colab": {}
      },
      "source": [
        "url_files = ['wines.txt', 'bubble_gums.txt', 'dumplings.txt', 'pizza_urls.txt', 'sandwich.txt']"
      ],
      "execution_count": 0,
      "outputs": []
    },
    {
      "cell_type": "code",
      "metadata": {
        "id": "YVC89CCpw9X4",
        "colab_type": "code",
        "outputId": "027b521d-1973-4a23-ed8d-688b9a1bf8e6",
        "colab": {
          "base_uri": "https://localhost:8080/",
          "height": 119
        }
      },
      "source": [
        "# Iteramos por cada uno de los archivos y obtenemos los URLs de las imagenes.\n",
        "print(\"Reading files containing images urls\")\n",
        "urls = []\n",
        "for file_name in url_files:\n",
        "  with open(file_name) as f:\n",
        "    content = f.readlines()\n",
        "    content = [url.strip() for url in content]\n",
        "    print(\"Reading {} image urls ({})\".format(len(content), file_name))\n",
        "    urls.append(content)"
      ],
      "execution_count": 3,
      "outputs": [
        {
          "output_type": "stream",
          "text": [
            "Reading files containing images urls\n",
            "Reading 1248 image urls (wines.txt)\n",
            "Reading 1210 image urls (bubble_gums.txt)\n",
            "Reading 1273 image urls (dumplings.txt)\n",
            "Reading 1216 image urls (pizza_urls.txt)\n",
            "Reading 1230 image urls (sandwich.txt)\n"
          ],
          "name": "stdout"
        }
      ]
    },
    {
      "cell_type": "code",
      "metadata": {
        "id": "kV0MqOuIxZW9",
        "colab_type": "code",
        "colab": {}
      },
      "source": [
        "# Utilizaremos urllib para descargar las imagenes utilizando URLs obtenidos de ImageNet\n",
        "import urllib.request\n",
        "import os\n",
        "from concurrent.futures import ThreadPoolExecutor, as_completed\n",
        "import uuid\n",
        "from itertools import repeat"
      ],
      "execution_count": 0,
      "outputs": []
    },
    {
      "cell_type": "code",
      "metadata": {
        "id": "KGA4uySh9T34",
        "colab_type": "code",
        "colab": {}
      },
      "source": [
        "def download_from_url(category_url):\n",
        "  category, url = category_url\n",
        "  print(f'Downloading {url} for category {category}')\n",
        "  try:\n",
        "    urllib.request.urlretrieve(url, f'./data/{category}/{uuid.uuid4()}.jpg')\n",
        "    return url\n",
        "  except Exception as e:\n",
        "    print('Error')\n",
        "    return f'Error: {e}'\n",
        "\n",
        "def download_category_from_url(category, urls):\n",
        "  try:\n",
        "    print(f'Creating directory to store {category} images')\n",
        "    os.mkdir(f'./data/{category}')\n",
        "  except FileExistsError:\n",
        "    print(f'./data/{category} directory exists, continuing...')\n",
        "  except Exception as e:\n",
        "    print(e)\n",
        "  else:\n",
        "    print(f'Succesfully created {category}/ directory')\n",
        "  results = None\n",
        "  with ThreadPoolExecutor(max_workers=5) as executor:\n",
        "    return executor.map(download_from_url, zip(repeat(category), urls), timeout=2)\n",
        "\n",
        "categories = ['wine', 'bubble_gum', 'dumplings', 'pizza', 'sandwich'] # wine bubble_gum\n",
        "try:\n",
        "  os.mkdir(\"./data\")\n",
        "except FileExistsError:\n",
        "  print('data directory exists, continuing...')\n",
        "for idx, category in enumerate(categories):\n",
        "  download_category_from_url(category, urls[idx])"
      ],
      "execution_count": 0,
      "outputs": []
    }
  ]
}